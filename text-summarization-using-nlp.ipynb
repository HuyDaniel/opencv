{
 "cells": [
  {
   "cell_type": "code",
   "execution_count": 1,
   "id": "78f5c5fd",
   "metadata": {
    "execution": {
     "iopub.execute_input": "2021-08-30T11:23:23.014333Z",
     "iopub.status.busy": "2021-08-30T11:23:23.013681Z",
     "iopub.status.idle": "2021-08-30T11:23:25.198932Z",
     "shell.execute_reply": "2021-08-30T11:23:25.198094Z",
     "shell.execute_reply.started": "2021-08-30T11:18:55.008598Z"
    },
    "id": "KiI5Fv9tLAMS",
    "outputId": "8b933c4b-93b0-469c-a1bc-c62ed49ac80d",
    "papermill": {
     "duration": 2.231761,
     "end_time": "2021-08-30T11:23:25.199103",
     "exception": false,
     "start_time": "2021-08-30T11:23:22.967342",
     "status": "completed"
    },
    "tags": []
   },
   "outputs": [
    {
     "name": "stderr",
     "output_type": "stream",
     "text": [
      "[nltk_data] Downloading package punkt to\n",
      "[nltk_data]     C:\\Users\\ADMIN\\AppData\\Roaming\\nltk_data...\n",
      "[nltk_data]   Package punkt is already up-to-date!\n"
     ]
    },
    {
     "data": {
      "text/plain": [
       "True"
      ]
     },
     "execution_count": 1,
     "metadata": {},
     "output_type": "execute_result"
    }
   ],
   "source": [
    "import pandas as pd\n",
    "import numpy as np\n",
    "import nltk\n",
    "import re\n",
    "nltk.download('punkt')"
   ]
  },
  {
   "cell_type": "code",
   "execution_count": 2,
   "id": "31a6e3e7",
   "metadata": {
    "execution": {
     "iopub.execute_input": "2021-08-30T11:23:25.274674Z",
     "iopub.status.busy": "2021-08-30T11:23:25.273998Z",
     "iopub.status.idle": "2021-08-30T11:23:25.299763Z",
     "shell.execute_reply": "2021-08-30T11:23:25.299210Z",
     "shell.execute_reply.started": "2021-08-30T11:18:55.018430Z"
    },
    "id": "WBiuanjkt3Hw",
    "papermill": {
     "duration": 0.064992,
     "end_time": "2021-08-30T11:23:25.299909",
     "exception": false,
     "start_time": "2021-08-30T11:23:25.234917",
     "status": "completed"
    },
    "tags": []
   },
   "outputs": [],
   "source": [
    "df = pd.read_csv('tennis_articles.csv', encoding = \"ISO-8859-1\")"
   ]
  },
  {
   "cell_type": "code",
   "execution_count": 3,
   "id": "5ca2990c",
   "metadata": {
    "execution": {
     "iopub.execute_input": "2021-08-30T11:23:25.381896Z",
     "iopub.status.busy": "2021-08-30T11:23:25.381191Z",
     "iopub.status.idle": "2021-08-30T11:23:25.400580Z",
     "shell.execute_reply": "2021-08-30T11:23:25.401027Z",
     "shell.execute_reply.started": "2021-08-30T11:18:55.035669Z"
    },
    "id": "9zbPQIVHLXCT",
    "outputId": "a5f01284-b93b-45be-b046-1f2506dc0131",
    "papermill": {
     "duration": 0.065807,
     "end_time": "2021-08-30T11:23:25.401201",
     "exception": false,
     "start_time": "2021-08-30T11:23:25.335394",
     "status": "completed"
    },
    "tags": []
   },
   "outputs": [
    {
     "data": {
      "text/html": [
       "<div>\n",
       "<style scoped>\n",
       "    .dataframe tbody tr th:only-of-type {\n",
       "        vertical-align: middle;\n",
       "    }\n",
       "\n",
       "    .dataframe tbody tr th {\n",
       "        vertical-align: top;\n",
       "    }\n",
       "\n",
       "    .dataframe thead th {\n",
       "        text-align: right;\n",
       "    }\n",
       "</style>\n",
       "<table border=\"1\" class=\"dataframe\">\n",
       "  <thead>\n",
       "    <tr style=\"text-align: right;\">\n",
       "      <th></th>\n",
       "      <th>article_id</th>\n",
       "      <th>article_title</th>\n",
       "      <th>article_text</th>\n",
       "      <th>source</th>\n",
       "    </tr>\n",
       "  </thead>\n",
       "  <tbody>\n",
       "    <tr>\n",
       "      <th>0</th>\n",
       "      <td>1</td>\n",
       "      <td>I do not have friends in tennis, says Maria Sh...</td>\n",
       "      <td>Maria Sharapova has basically no friends as te...</td>\n",
       "      <td>https://www.tennisworldusa.org/tennis/news/Mar...</td>\n",
       "    </tr>\n",
       "    <tr>\n",
       "      <th>1</th>\n",
       "      <td>2</td>\n",
       "      <td>Federer defeats Medvedev to advance to 14th Sw...</td>\n",
       "      <td>BASEL, Switzerland (AP)  Roger Federer advanc...</td>\n",
       "      <td>http://www.tennis.com/pro-game/2018/10/copil-s...</td>\n",
       "    </tr>\n",
       "    <tr>\n",
       "      <th>2</th>\n",
       "      <td>3</td>\n",
       "      <td>Tennis: Roger Federer ignored deadline set by ...</td>\n",
       "      <td>Roger Federer has revealed that organisers of ...</td>\n",
       "      <td>https://scroll.in/field/899938/tennis-roger-fe...</td>\n",
       "    </tr>\n",
       "    <tr>\n",
       "      <th>3</th>\n",
       "      <td>4</td>\n",
       "      <td>Nishikori to face off against Anderson in Vien...</td>\n",
       "      <td>Kei Nishikori will try to end his long losing ...</td>\n",
       "      <td>http://www.tennis.com/pro-game/2018/10/nishiko...</td>\n",
       "    </tr>\n",
       "    <tr>\n",
       "      <th>4</th>\n",
       "      <td>5</td>\n",
       "      <td>Roger Federer has made this huge change to ten...</td>\n",
       "      <td>Federer, 37, first broke through on tour over ...</td>\n",
       "      <td>https://www.express.co.uk/sport/tennis/1036101...</td>\n",
       "    </tr>\n",
       "    <tr>\n",
       "      <th>5</th>\n",
       "      <td>6</td>\n",
       "      <td>Rafael Nadal: World No 1 ARRIVES for Paris Mas...</td>\n",
       "      <td>Nadal has not played tennis since he was force...</td>\n",
       "      <td>https://www.express.co.uk/sport/tennis/1037119...</td>\n",
       "    </tr>\n",
       "    <tr>\n",
       "      <th>6</th>\n",
       "      <td>7</td>\n",
       "      <td>TENNIS.COM PODCAST: POINT DEFENSE, RANKING DRO...</td>\n",
       "      <td>Tennis giveth, and tennis taketh away. The end...</td>\n",
       "      <td>http://www.tennis.com/pro-game/2018/10/tennisc...</td>\n",
       "    </tr>\n",
       "    <tr>\n",
       "      <th>7</th>\n",
       "      <td>8</td>\n",
       "      <td>Tennis journalists heartbreaking insight on T...</td>\n",
       "      <td>I PLAYED golf last week with Todd Reid. He pic...</td>\n",
       "      <td>https://www.foxsports.com.au/tennis/tennis-jou...</td>\n",
       "    </tr>\n",
       "  </tbody>\n",
       "</table>\n",
       "</div>"
      ],
      "text/plain": [
       "   article_id                                      article_title  \\\n",
       "0           1  I do not have friends in tennis, says Maria Sh...   \n",
       "1           2  Federer defeats Medvedev to advance to 14th Sw...   \n",
       "2           3  Tennis: Roger Federer ignored deadline set by ...   \n",
       "3           4  Nishikori to face off against Anderson in Vien...   \n",
       "4           5  Roger Federer has made this huge change to ten...   \n",
       "5           6  Rafael Nadal: World No 1 ARRIVES for Paris Mas...   \n",
       "6           7  TENNIS.COM PODCAST: POINT DEFENSE, RANKING DRO...   \n",
       "7           8  Tennis journalists heartbreaking insight on T...   \n",
       "\n",
       "                                        article_text  \\\n",
       "0  Maria Sharapova has basically no friends as te...   \n",
       "1  BASEL, Switzerland (AP)  Roger Federer advanc...   \n",
       "2  Roger Federer has revealed that organisers of ...   \n",
       "3  Kei Nishikori will try to end his long losing ...   \n",
       "4  Federer, 37, first broke through on tour over ...   \n",
       "5  Nadal has not played tennis since he was force...   \n",
       "6  Tennis giveth, and tennis taketh away. The end...   \n",
       "7  I PLAYED golf last week with Todd Reid. He pic...   \n",
       "\n",
       "                                              source  \n",
       "0  https://www.tennisworldusa.org/tennis/news/Mar...  \n",
       "1  http://www.tennis.com/pro-game/2018/10/copil-s...  \n",
       "2  https://scroll.in/field/899938/tennis-roger-fe...  \n",
       "3  http://www.tennis.com/pro-game/2018/10/nishiko...  \n",
       "4  https://www.express.co.uk/sport/tennis/1036101...  \n",
       "5  https://www.express.co.uk/sport/tennis/1037119...  \n",
       "6  http://www.tennis.com/pro-game/2018/10/tennisc...  \n",
       "7  https://www.foxsports.com.au/tennis/tennis-jou...  "
      ]
     },
     "execution_count": 3,
     "metadata": {},
     "output_type": "execute_result"
    }
   ],
   "source": [
    "df.head(10)"
   ]
  },
  {
   "cell_type": "code",
   "execution_count": 4,
   "id": "ab20f4be",
   "metadata": {
    "execution": {
     "iopub.execute_input": "2021-08-30T11:23:25.475058Z",
     "iopub.status.busy": "2021-08-30T11:23:25.474446Z",
     "iopub.status.idle": "2021-08-30T11:23:25.497110Z",
     "shell.execute_reply": "2021-08-30T11:23:25.497920Z",
     "shell.execute_reply.started": "2021-08-30T11:18:55.051877Z"
    },
    "id": "hLk8KkoVLXN7",
    "outputId": "ebee10a4-36a7-495c-9c7e-3bd844f426a2",
    "papermill": {
     "duration": 0.061323,
     "end_time": "2021-08-30T11:23:25.498107",
     "exception": false,
     "start_time": "2021-08-30T11:23:25.436784",
     "status": "completed"
    },
    "tags": []
   },
   "outputs": [
    {
     "name": "stdout",
     "output_type": "stream",
     "text": [
      "<class 'pandas.core.frame.DataFrame'>\n",
      "RangeIndex: 8 entries, 0 to 7\n",
      "Data columns (total 4 columns):\n",
      " #   Column         Non-Null Count  Dtype \n",
      "---  ------         --------------  ----- \n",
      " 0   article_id     8 non-null      int64 \n",
      " 1   article_title  8 non-null      object\n",
      " 2   article_text   8 non-null      object\n",
      " 3   source         8 non-null      object\n",
      "dtypes: int64(1), object(3)\n",
      "memory usage: 388.0+ bytes\n"
     ]
    }
   ],
   "source": [
    "df.info()"
   ]
  },
  {
   "cell_type": "code",
   "execution_count": 5,
   "id": "db354306",
   "metadata": {
    "execution": {
     "iopub.execute_input": "2021-08-30T11:23:25.573080Z",
     "iopub.status.busy": "2021-08-30T11:23:25.572406Z",
     "iopub.status.idle": "2021-08-30T11:23:25.575670Z",
     "shell.execute_reply": "2021-08-30T11:23:25.576206Z",
     "shell.execute_reply.started": "2021-08-30T11:18:55.070006Z"
    },
    "id": "glHl6xENLXaF",
    "papermill": {
     "duration": 0.042734,
     "end_time": "2021-08-30T11:23:25.576393",
     "exception": false,
     "start_time": "2021-08-30T11:23:25.533659",
     "status": "completed"
    },
    "tags": []
   },
   "outputs": [],
   "source": [
    "#I will drop the article_title column.\n",
    "# Reason: Well I am trying to keep things simple and easy."
   ]
  },
  {
   "cell_type": "code",
   "execution_count": 6,
   "id": "db4897f7",
   "metadata": {
    "execution": {
     "iopub.execute_input": "2021-08-30T11:23:25.651074Z",
     "iopub.status.busy": "2021-08-30T11:23:25.650418Z",
     "iopub.status.idle": "2021-08-30T11:23:25.657031Z",
     "shell.execute_reply": "2021-08-30T11:23:25.657605Z",
     "shell.execute_reply.started": "2021-08-30T11:18:55.074766Z"
    },
    "id": "JYYjJqgFLXok",
    "papermill": {
     "duration": 0.045578,
     "end_time": "2021-08-30T11:23:25.657785",
     "exception": false,
     "start_time": "2021-08-30T11:23:25.612207",
     "status": "completed"
    },
    "tags": []
   },
   "outputs": [],
   "source": [
    "df.drop(['article_title'], axis = 1, inplace=True)"
   ]
  },
  {
   "cell_type": "code",
   "execution_count": 7,
   "id": "a1445ced",
   "metadata": {
    "execution": {
     "iopub.execute_input": "2021-08-30T11:23:25.732938Z",
     "iopub.status.busy": "2021-08-30T11:23:25.732309Z",
     "iopub.status.idle": "2021-08-30T11:23:25.742928Z",
     "shell.execute_reply": "2021-08-30T11:23:25.742374Z",
     "shell.execute_reply.started": "2021-08-30T11:18:55.091369Z"
    },
    "id": "KBSrNHIcLYDk",
    "outputId": "2cc91cbc-c3c6-429a-d763-604d60f54d71",
    "papermill": {
     "duration": 0.049551,
     "end_time": "2021-08-30T11:23:25.743084",
     "exception": false,
     "start_time": "2021-08-30T11:23:25.693533",
     "status": "completed"
    },
    "tags": []
   },
   "outputs": [
    {
     "data": {
      "text/html": [
       "<div>\n",
       "<style scoped>\n",
       "    .dataframe tbody tr th:only-of-type {\n",
       "        vertical-align: middle;\n",
       "    }\n",
       "\n",
       "    .dataframe tbody tr th {\n",
       "        vertical-align: top;\n",
       "    }\n",
       "\n",
       "    .dataframe thead th {\n",
       "        text-align: right;\n",
       "    }\n",
       "</style>\n",
       "<table border=\"1\" class=\"dataframe\">\n",
       "  <thead>\n",
       "    <tr style=\"text-align: right;\">\n",
       "      <th></th>\n",
       "      <th>article_id</th>\n",
       "      <th>article_text</th>\n",
       "      <th>source</th>\n",
       "    </tr>\n",
       "  </thead>\n",
       "  <tbody>\n",
       "    <tr>\n",
       "      <th>0</th>\n",
       "      <td>1</td>\n",
       "      <td>Maria Sharapova has basically no friends as te...</td>\n",
       "      <td>https://www.tennisworldusa.org/tennis/news/Mar...</td>\n",
       "    </tr>\n",
       "    <tr>\n",
       "      <th>1</th>\n",
       "      <td>2</td>\n",
       "      <td>BASEL, Switzerland (AP)  Roger Federer advanc...</td>\n",
       "      <td>http://www.tennis.com/pro-game/2018/10/copil-s...</td>\n",
       "    </tr>\n",
       "    <tr>\n",
       "      <th>2</th>\n",
       "      <td>3</td>\n",
       "      <td>Roger Federer has revealed that organisers of ...</td>\n",
       "      <td>https://scroll.in/field/899938/tennis-roger-fe...</td>\n",
       "    </tr>\n",
       "    <tr>\n",
       "      <th>3</th>\n",
       "      <td>4</td>\n",
       "      <td>Kei Nishikori will try to end his long losing ...</td>\n",
       "      <td>http://www.tennis.com/pro-game/2018/10/nishiko...</td>\n",
       "    </tr>\n",
       "    <tr>\n",
       "      <th>4</th>\n",
       "      <td>5</td>\n",
       "      <td>Federer, 37, first broke through on tour over ...</td>\n",
       "      <td>https://www.express.co.uk/sport/tennis/1036101...</td>\n",
       "    </tr>\n",
       "  </tbody>\n",
       "</table>\n",
       "</div>"
      ],
      "text/plain": [
       "   article_id                                       article_text  \\\n",
       "0           1  Maria Sharapova has basically no friends as te...   \n",
       "1           2  BASEL, Switzerland (AP)  Roger Federer advanc...   \n",
       "2           3  Roger Federer has revealed that organisers of ...   \n",
       "3           4  Kei Nishikori will try to end his long losing ...   \n",
       "4           5  Federer, 37, first broke through on tour over ...   \n",
       "\n",
       "                                              source  \n",
       "0  https://www.tennisworldusa.org/tennis/news/Mar...  \n",
       "1  http://www.tennis.com/pro-game/2018/10/copil-s...  \n",
       "2  https://scroll.in/field/899938/tennis-roger-fe...  \n",
       "3  http://www.tennis.com/pro-game/2018/10/nishiko...  \n",
       "4  https://www.express.co.uk/sport/tennis/1036101...  "
      ]
     },
     "execution_count": 7,
     "metadata": {},
     "output_type": "execute_result"
    }
   ],
   "source": [
    "df.head()"
   ]
  },
  {
   "cell_type": "code",
   "execution_count": 8,
   "id": "50e08ec6",
   "metadata": {
    "execution": {
     "iopub.execute_input": "2021-08-30T11:23:25.821602Z",
     "iopub.status.busy": "2021-08-30T11:23:25.820916Z",
     "iopub.status.idle": "2021-08-30T11:23:25.823801Z",
     "shell.execute_reply": "2021-08-30T11:23:25.824326Z",
     "shell.execute_reply.started": "2021-08-30T11:18:55.111853Z"
    },
    "id": "aaPS5UV8L57t",
    "outputId": "e9dd81ee-7c3e-4766-db87-34a7e7d38ab9",
    "papermill": {
     "duration": 0.0448,
     "end_time": "2021-08-30T11:23:25.824490",
     "exception": false,
     "start_time": "2021-08-30T11:23:25.779690",
     "status": "completed"
    },
    "tags": []
   },
   "outputs": [
    {
     "data": {
      "text/plain": [
       "\"Maria Sharapova has basically no friends as tennis players on the WTA Tour. The Russian player has no problems in openly speaking about it and in a recent interview she said: 'I don't really hide any feelings too much. I think everyone knows this is my job here. When I'm on the courts or when I'm on the court playing, I'm a competitor and I want to beat every single person whether they're in the locker room or across the net. So I'm not the one to strike up a conversation about the weather and know that in the next few minutes I have to go and try to win a tennis match. I'm a pretty competitive girl. I say my hellos, but I'm not sending any players flowers as well. Uhm, I'm not really friendly or close to many players. I have not a lot of friends away from the courts.' When she said she is not really close to a lot of players, is that something strategic that she is doing? Is it different on the men's tour than the women's tour? 'No, not at all. I think just because you're in the same sport doesn't mean that you have to be friends with everyone just because you're categorized, you're a tennis player, so you're going to get along with tennis players. I think every person has different interests. I have friends that have completely different jobs and interests, and I've met them in very different parts of my life. I think everyone just thinks because we're tennis players we should be the greatest of friends. But ultimately tennis is just a very small part of what we do. There are so many other things that we're interested in, that we do.' ALSO READ: Maria Sharapova reveals how tennis keeps her motivated.\""
      ]
     },
     "execution_count": 8,
     "metadata": {},
     "output_type": "execute_result"
    }
   ],
   "source": [
    "#lets look at the first article_text\n",
    "df['article_text'][0]\n"
   ]
  },
  {
   "cell_type": "code",
   "execution_count": 9,
   "id": "49b98119",
   "metadata": {
    "execution": {
     "iopub.execute_input": "2021-08-30T11:23:25.900630Z",
     "iopub.status.busy": "2021-08-30T11:23:25.899972Z",
     "iopub.status.idle": "2021-08-30T11:23:25.905194Z",
     "shell.execute_reply": "2021-08-30T11:23:25.905746Z",
     "shell.execute_reply.started": "2021-08-30T11:18:55.121939Z"
    },
    "papermill": {
     "duration": 0.045009,
     "end_time": "2021-08-30T11:23:25.905919",
     "exception": false,
     "start_time": "2021-08-30T11:23:25.860910",
     "status": "completed"
    },
    "tags": []
   },
   "outputs": [
    {
     "data": {
      "text/plain": [
       "\"BASEL, Switzerland (AP) \\x97 Roger Federer advanced to the 14th Swiss Indoors final of his career by beating seventh-seeded Daniil Medvedev 6-1, 6-4 on Saturday. Seeking a ninth title at his hometown event, and a 99th overall, Federer will play 93th-ranked Marius Copil on Sunday. Federer dominated the 20th-ranked Medvedev and had his first match-point chance to break serve again at 5-1. He then dropped his serve to love, and let another match point slip in Medvedev's next service game by netting a backhand. He clinched on his fourth chance when Medvedev netted from the baseline. Copil upset expectations of a Federer final against Alexander Zverev in a 6-3, 6-7 (6), 6-4 win over the fifth-ranked German in the earlier semifinal. The Romanian aims for a first title after arriving at Basel without a career win over a top-10 opponent. Copil has two after also beating No. 6 Marin Cilic in the second round. Copil fired 26 aces past Zverev and never dropped serve, clinching after 2 1/2 hours with a forehand volley winner to break Zverev for the second time in the semifinal. He came through two rounds of qualifying last weekend to reach the Basel main draw, including beating Zverev's older brother, Mischa. Federer had an easier time than in his only previous match against Medvedev, a three-setter at Shanghai two weeks ago.\""
      ]
     },
     "execution_count": 9,
     "metadata": {},
     "output_type": "execute_result"
    }
   ],
   "source": [
    "df['article_text'][1]\n"
   ]
  },
  {
   "cell_type": "code",
   "execution_count": 10,
   "id": "0fab89ca",
   "metadata": {
    "execution": {
     "iopub.execute_input": "2021-08-30T11:23:25.983850Z",
     "iopub.status.busy": "2021-08-30T11:23:25.983108Z",
     "iopub.status.idle": "2021-08-30T11:23:25.988306Z",
     "shell.execute_reply": "2021-08-30T11:23:25.988912Z",
     "shell.execute_reply.started": "2021-08-30T11:18:55.132614Z"
    },
    "papermill": {
     "duration": 0.045353,
     "end_time": "2021-08-30T11:23:25.989082",
     "exception": false,
     "start_time": "2021-08-30T11:23:25.943729",
     "status": "completed"
    },
    "tags": []
   },
   "outputs": [
    {
     "data": {
      "text/plain": [
       "'Roger Federer has revealed that organisers of the re-launched and condensed Davis Cup gave him three days to decide if he would commit to the controversial competition. Speaking at the Swiss Indoors tournament where he will play in Sunday\\x92s final against Romanian qualifier Marius Copil, the world number three said that given the impossibly short time frame to make a decision, he opted out of any commitment. \\x93They only left me three days to decide,\\x94 Federer said. \\x93I didn\\x92t to have time to consult with all the people I had to consult. \\x93I could not make a decision in that time, so I told them to do what they wanted.\\x94 The 20-time Grand Slam champion has voiced doubts about the wisdom of the one-week format to be introduced by organisers Kosmos, who have promised the International Tennis Federation up to $3 billion in prize money over the next quarter-century. The competition is set to feature 18 countries in the November 18-24 finals in Madrid next year, and will replace the classic home-and-away ties played four times per year for decades. Kosmos is headed by Barcelona footballer Gerard Pique, who is hoping fellow Spaniard Rafael Nadal will play in the upcoming event. Novak Djokovic has said he will give precedence to the ATP\\x92s intended re-launch of the defunct World Team Cup in January 2020, at various Australian venues. Major players feel that a big event in late November combined with one in January before the Australian Open will mean too much tennis and too little rest. Federer said earlier this month in Shanghai in that his chances of playing the Davis Cup were all but non-existent. \\x93I highly doubt it, of course. We\\x92ll see what happens,\\x94 he said. \\x93I don\\x92t think this was designed for me, anyhow. This was designed for the future generation of players.\\x94 Argentina and Britain received wild cards to the new-look event, and will compete along with the four 2018 semi-finalists and the 12 teams who win qualifying rounds next February. \\x93I don\\x92t like being under that kind of pressure,\\x94 Federer said of the deadline Kosmos handed him.'"
      ]
     },
     "execution_count": 10,
     "metadata": {},
     "output_type": "execute_result"
    }
   ],
   "source": [
    "df['article_text'][2]"
   ]
  },
  {
   "cell_type": "markdown",
   "id": "da502128",
   "metadata": {},
   "source": []
  },
  {
   "cell_type": "markdown",
   "id": "ae55167f",
   "metadata": {
    "id": "LUw1umqMMnT8",
    "papermill": {
     "duration": 0.037471,
     "end_time": "2021-08-30T11:23:26.064675",
     "exception": false,
     "start_time": "2021-08-30T11:23:26.027204",
     "status": "completed"
    },
    "tags": []
   },
   "source": [
    "# **Preprocessing**"
   ]
  },
  {
   "cell_type": "markdown",
   "id": "f73ac23c",
   "metadata": {
    "id": "EACgsOt1Mr-U",
    "papermill": {
     "duration": 0.036704,
     "end_time": "2021-08-30T11:23:26.138621",
     "exception": false,
     "start_time": "2021-08-30T11:23:26.101917",
     "status": "completed"
    },
    "tags": []
   },
   "source": [
    "# **1. TOKENIZATION (Spliting the whole paragraph into sentence)**"
   ]
  },
  {
   "cell_type": "markdown",
   "id": "8520f722",
   "metadata": {
    "id": "GGCVF15ZNW7J",
    "papermill": {
     "duration": 0.036645,
     "end_time": "2021-08-30T11:23:26.213259",
     "exception": false,
     "start_time": "2021-08-30T11:23:26.176614",
     "status": "completed"
    },
    "tags": []
   },
   "source": [
    "what is tokenization\n",
    "\n",
    "Tokenization is a way of separating a piece of text into smaller units called tokens. \n",
    "Here, tokens can be either words, characters, or subwords. \n",
    "Hence, tokenization can be broadly classified into 3 types\n",
    "1.word, 2.character, and 3.subword (n-gram characters) tokenization."
   ]
  },
  {
   "cell_type": "markdown",
   "id": "a1ddcdf3",
   "metadata": {
    "id": "bjMSTGx7Nf4j",
    "papermill": {
     "duration": 0.036598,
     "end_time": "2021-08-30T11:23:26.287047",
     "exception": false,
     "start_time": "2021-08-30T11:23:26.250449",
     "status": "completed"
    },
    "tags": []
   },
   "source": [
    "In this case we are splitting the paragraph into sentences."
   ]
  },
  {
   "cell_type": "code",
   "execution_count": 11,
   "id": "f4953dbb",
   "metadata": {
    "execution": {
     "iopub.execute_input": "2021-08-30T11:23:26.364400Z",
     "iopub.status.busy": "2021-08-30T11:23:26.363713Z",
     "iopub.status.idle": "2021-08-30T11:23:26.390003Z",
     "shell.execute_reply": "2021-08-30T11:23:26.389440Z",
     "shell.execute_reply.started": "2021-08-30T11:18:55.149052Z"
    },
    "id": "LBR-IzTfL52W",
    "papermill": {
     "duration": 0.065955,
     "end_time": "2021-08-30T11:23:26.390140",
     "exception": false,
     "start_time": "2021-08-30T11:23:26.324185",
     "status": "completed"
    },
    "tags": []
   },
   "outputs": [],
   "source": [
    "from nltk.tokenize import sent_tokenize\n",
    "sentences = []\n",
    "for s in df['article_text']:\n",
    "  sentences.append(sent_tokenize(s))\n",
    "\n",
    "sentences = [y for x in sentences for y in x]\n",
    "\n",
    "# Above I have used list comprehension technique instead of conventional for loop method."
   ]
  },
  {
   "cell_type": "markdown",
   "id": "5867af72",
   "metadata": {
    "id": "Rm_zCdzrNsWL",
    "papermill": {
     "duration": 0.037181,
     "end_time": "2021-08-30T11:23:26.464903",
     "exception": false,
     "start_time": "2021-08-30T11:23:26.427722",
     "status": "completed"
    },
    "tags": []
   },
   "source": [
    "# **2. WORD EMBEDDING (Then spliting the sentecnec into words.)**"
   ]
  },
  {
   "cell_type": "markdown",
   "id": "8a23e63e",
   "metadata": {
    "id": "0axu0xbiNwPT",
    "papermill": {
     "duration": 0.036732,
     "end_time": "2021-08-30T11:23:26.538875",
     "exception": false,
     "start_time": "2021-08-30T11:23:26.502143",
     "status": "completed"
    },
    "tags": []
   },
   "source": [
    "In very simplistic terms, Word Embeddings are the texts converted into numbers and there may be different numerical representations of the same text.\n",
    "Word embeddings are a type of word representation that allows words with similar meaning to have a similar representation."
   ]
  },
  {
   "cell_type": "markdown",
   "id": "1192a49a",
   "metadata": {
    "id": "wlidMHulN2wE",
    "papermill": {
     "duration": 0.03671,
     "end_time": "2021-08-30T11:23:26.612718",
     "exception": false,
     "start_time": "2021-08-30T11:23:26.576008",
     "status": "completed"
    },
    "tags": []
   },
   "source": [
    "I am going to use Glove for word embedding.\n",
    "GloVe is an unsupervised learning algorithm for obtaining vector representations for words. \n",
    "Training is performed on aggregated global word-word co-occurrence statistics from a corpus, \n",
    "and the resulting representations showcase interesting linear substructures of the word vector space\n",
    "\n",
    "Read more here https://nlp.stanford.edu/projects/glove/"
   ]
  },
  {
   "cell_type": "code",
   "execution_count": 12,
   "id": "679ebbe0",
   "metadata": {
    "execution": {
     "iopub.execute_input": "2021-08-30T11:23:26.692736Z",
     "iopub.status.busy": "2021-08-30T11:23:26.692041Z",
     "iopub.status.idle": "2021-08-30T11:26:34.814934Z",
     "shell.execute_reply": "2021-08-30T11:26:34.815483Z",
     "shell.execute_reply.started": "2021-08-30T11:18:55.168412Z"
    },
    "id": "1AODq8CgNFse",
    "papermill": {
     "duration": 188.165806,
     "end_time": "2021-08-30T11:26:34.815675",
     "exception": false,
     "start_time": "2021-08-30T11:23:26.649869",
     "status": "completed"
    },
    "tags": []
   },
   "outputs": [
    {
     "name": "stderr",
     "output_type": "stream",
     "text": [
      "'wget' is not recognized as an internal or external command,\n",
      "operable program or batch file.\n",
      "'unzip' is not recognized as an internal or external command,\n",
      "operable program or batch file.\n"
     ]
    }
   ],
   "source": [
    "!wget http://nlp.stanford.edu/data/glove.6B.zip\n",
    "!unzip glove*.zip"
   ]
  },
  {
   "cell_type": "code",
   "execution_count": 13,
   "id": "b3db4f41",
   "metadata": {
    "execution": {
     "iopub.execute_input": "2021-08-30T11:26:39.999367Z",
     "iopub.status.busy": "2021-08-30T11:26:37.405566Z",
     "iopub.status.idle": "2021-08-30T11:26:54.679934Z",
     "shell.execute_reply": "2021-08-30T11:26:54.679363Z",
     "shell.execute_reply.started": "2021-08-30T11:22:01.009634Z"
    },
    "id": "Yj54S_14L5yE",
    "papermill": {
     "duration": 18.741197,
     "end_time": "2021-08-30T11:26:54.680082",
     "exception": false,
     "start_time": "2021-08-30T11:26:35.938885",
     "status": "completed"
    },
    "tags": []
   },
   "outputs": [],
   "source": [
    "word_embeddings = {}\n",
    "f = open('glove.6B.100d.txt', encoding='utf-8')\n",
    "for line in f:\n",
    "    values = line.split()\n",
    "    word = values[0]\n",
    "    coefs = np.asarray(values[1:], dtype='float32')\n",
    "    word_embeddings[word] = coefs\n",
    "f.close()"
   ]
  },
  {
   "cell_type": "code",
   "execution_count": 14,
   "id": "9d9e468b",
   "metadata": {
    "execution": {
     "iopub.execute_input": "2021-08-30T11:26:54.903922Z",
     "iopub.status.busy": "2021-08-30T11:26:54.903114Z",
     "iopub.status.idle": "2021-08-30T11:26:54.906577Z",
     "shell.execute_reply": "2021-08-30T11:26:54.907070Z",
     "shell.execute_reply.started": "2021-08-30T11:22:20.227687Z"
    },
    "id": "NiVLX_HVL5rm",
    "outputId": "5fa45673-85f0-4905-806e-7cd40bbbfd6e",
    "papermill": {
     "duration": 0.117274,
     "end_time": "2021-08-30T11:26:54.907295",
     "exception": false,
     "start_time": "2021-08-30T11:26:54.790021",
     "status": "completed"
    },
    "tags": []
   },
   "outputs": [
    {
     "data": {
      "text/plain": [
       "3029"
      ]
     },
     "execution_count": 14,
     "metadata": {},
     "output_type": "execute_result"
    }
   ],
   "source": [
    "len(word_embeddings)"
   ]
  },
  {
   "cell_type": "markdown",
   "id": "6d47b0ea",
   "metadata": {
    "id": "zXeJpbbdObxp",
    "papermill": {
     "duration": 0.108018,
     "end_time": "2021-08-30T11:26:55.121906",
     "exception": false,
     "start_time": "2021-08-30T11:26:55.013888",
     "status": "completed"
    },
    "tags": []
   },
   "source": [
    "# **3. Remove punctuations, special characters and numbers.**"
   ]
  },
  {
   "cell_type": "markdown",
   "id": "e122695e",
   "metadata": {
    "id": "-9gpDMHHO4WS",
    "papermill": {
     "duration": 0.104903,
     "end_time": "2021-08-30T11:26:55.332635",
     "exception": false,
     "start_time": "2021-08-30T11:26:55.227732",
     "status": "completed"
    },
    "tags": []
   },
   "source": [
    "Doing this will help in processing the text faster."
   ]
  },
  {
   "cell_type": "code",
   "execution_count": 15,
   "id": "af89ef88",
   "metadata": {
    "execution": {
     "iopub.execute_input": "2021-08-30T11:26:55.545415Z",
     "iopub.status.busy": "2021-08-30T11:26:55.544718Z",
     "iopub.status.idle": "2021-08-30T11:26:55.554749Z",
     "shell.execute_reply": "2021-08-30T11:26:55.555276Z",
     "shell.execute_reply.started": "2021-08-30T11:22:20.239102Z"
    },
    "id": "KSsB-vCSL5jN",
    "papermill": {
     "duration": 0.117954,
     "end_time": "2021-08-30T11:26:55.555473",
     "exception": false,
     "start_time": "2021-08-30T11:26:55.437519",
     "status": "completed"
    },
    "tags": []
   },
   "outputs": [],
   "source": [
    "clean_sentences = pd.Series(sentences).str.replace(\"[^a-zA-Z]\", \" \")"
   ]
  },
  {
   "cell_type": "code",
   "execution_count": 16,
   "id": "eb5c5fa3",
   "metadata": {
    "execution": {
     "iopub.execute_input": "2021-08-30T11:26:55.770460Z",
     "iopub.status.busy": "2021-08-30T11:26:55.769474Z",
     "iopub.status.idle": "2021-08-30T11:26:55.777251Z",
     "shell.execute_reply": "2021-08-30T11:26:55.776741Z",
     "shell.execute_reply.started": "2021-08-30T11:22:20.260796Z"
    },
    "id": "Of9dYMwWL5SO",
    "outputId": "7f37db6b-d60c-44d1-e717-8f1c82c78581",
    "papermill": {
     "duration": 0.117435,
     "end_time": "2021-08-30T11:26:55.777411",
     "exception": false,
     "start_time": "2021-08-30T11:26:55.659976",
     "status": "completed"
    },
    "tags": []
   },
   "outputs": [
    {
     "name": "stdout",
     "output_type": "stream",
     "text": [
      "Maria Sharapova has basically no friends as tennis players on the WTA Tour.\n",
      "The Russian player has no problems in openly speaking about it and in a recent interview she said: 'I don't really hide any feelings too much.\n",
      "I think everyone knows this is my job here.\n"
     ]
    }
   ],
   "source": [
    "print(clean_sentences[0])\n",
    "print(clean_sentences[1])\n",
    "print(clean_sentences[2])"
   ]
  },
  {
   "cell_type": "markdown",
   "id": "5534b866",
   "metadata": {
    "id": "dPj1pujdWM-r",
    "papermill": {
     "duration": 0.106644,
     "end_time": "2021-08-30T11:26:55.990526",
     "exception": false,
     "start_time": "2021-08-30T11:26:55.883882",
     "status": "completed"
    },
    "tags": []
   },
   "source": [
    "**converting to lower case**\n",
    "\n",
    "**Reason:**\n",
    "\n",
    "I think for your particular use-case, it would be better to convert it to lowercase because ultimately, you will need to predict the words given a certain context. You probably won't be needing to predict sentence beginnings in your use-case. Also, if a noun is predicted you can capitalize it later. However consider the other way round. (Assuming your corpus is in English) Your model might treat a word which is in the beginning of a sentence with a capital letter different from the same word which appears later in the sentence but without any capital latter. This might lead to decline in the accuracy. Whereas I think, lowering the words would be a better trade off."
   ]
  },
  {
   "cell_type": "code",
   "execution_count": 17,
   "id": "d26fe6f7",
   "metadata": {
    "execution": {
     "iopub.execute_input": "2021-08-30T11:26:56.209480Z",
     "iopub.status.busy": "2021-08-30T11:26:56.208382Z",
     "iopub.status.idle": "2021-08-30T11:26:56.211389Z",
     "shell.execute_reply": "2021-08-30T11:26:56.210773Z",
     "shell.execute_reply.started": "2021-08-30T11:22:20.277634Z"
    },
    "id": "Kyy-fZjaL5Cs",
    "papermill": {
     "duration": 0.113086,
     "end_time": "2021-08-30T11:26:56.211530",
     "exception": false,
     "start_time": "2021-08-30T11:26:56.098444",
     "status": "completed"
    },
    "tags": []
   },
   "outputs": [],
   "source": [
    "clean_sentences = [s.lower() for s in clean_sentences]"
   ]
  },
  {
   "cell_type": "markdown",
   "id": "7fd92f05",
   "metadata": {
    "id": "O35lWNXiWm08",
    "papermill": {
     "duration": 0.107157,
     "end_time": "2021-08-30T11:26:56.424196",
     "exception": false,
     "start_time": "2021-08-30T11:26:56.317039",
     "status": "completed"
    },
    "tags": []
   },
   "source": [
    "# **4. Removing stops words**"
   ]
  },
  {
   "cell_type": "markdown",
   "id": "e2af9398",
   "metadata": {
    "id": "lHxz876nWspb",
    "papermill": {
     "duration": 0.104764,
     "end_time": "2021-08-30T11:26:56.634622",
     "exception": false,
     "start_time": "2021-08-30T11:26:56.529858",
     "status": "completed"
    },
    "tags": []
   },
   "source": [
    "**What are the stop words?**\n",
    "\n",
    "These are actually the most common words in any language (like articles, prepositions, pronouns, conjunctions, etc) and does not add much information to the text. Examples of a few stop words in English are “the”, “a”, “an”, “so”, “what”.\n",
    "\n",
    "**Why we remove the stop words?**\n",
    "\n",
    "Stop words are available in abundance in any human language. By removing these words, we remove the low-level information from our text in order to give more focus to the important information. In order words, we can say that the removal of such words does not show any negative consequences on the model we train for our task.\n",
    "Removal of stop words definitely reduces the dataset size and thus reduces the training time due to the fewer number of tokens involved in the training."
   ]
  },
  {
   "cell_type": "code",
   "execution_count": 18,
   "id": "e68bde8d",
   "metadata": {
    "execution": {
     "iopub.execute_input": "2021-08-30T11:26:56.851710Z",
     "iopub.status.busy": "2021-08-30T11:26:56.850978Z",
     "iopub.status.idle": "2021-08-30T11:26:56.863047Z",
     "shell.execute_reply": "2021-08-30T11:26:56.862385Z",
     "shell.execute_reply.started": "2021-08-30T11:22:20.291195Z"
    },
    "id": "CvmbNG8FWmKa",
    "outputId": "3bc350bb-14bd-4c05-bd88-9d9d8554658f",
    "papermill": {
     "duration": 0.122927,
     "end_time": "2021-08-30T11:26:56.863187",
     "exception": false,
     "start_time": "2021-08-30T11:26:56.740260",
     "status": "completed"
    },
    "tags": []
   },
   "outputs": [
    {
     "name": "stderr",
     "output_type": "stream",
     "text": [
      "[nltk_data] Downloading package stopwords to\n",
      "[nltk_data]     C:\\Users\\ADMIN\\AppData\\Roaming\\nltk_data...\n",
      "[nltk_data]   Package stopwords is already up-to-date!\n"
     ]
    },
    {
     "data": {
      "text/plain": [
       "True"
      ]
     },
     "execution_count": 18,
     "metadata": {},
     "output_type": "execute_result"
    }
   ],
   "source": [
    "nltk.download('stopwords')"
   ]
  },
  {
   "cell_type": "code",
   "execution_count": 19,
   "id": "3c2f3d6d",
   "metadata": {
    "execution": {
     "iopub.execute_input": "2021-08-30T11:26:57.082306Z",
     "iopub.status.busy": "2021-08-30T11:26:57.081592Z",
     "iopub.status.idle": "2021-08-30T11:26:57.084817Z",
     "shell.execute_reply": "2021-08-30T11:26:57.084142Z",
     "shell.execute_reply.started": "2021-08-30T11:22:20.312498Z"
    },
    "papermill": {
     "duration": 0.115218,
     "end_time": "2021-08-30T11:26:57.084961",
     "exception": false,
     "start_time": "2021-08-30T11:26:56.969743",
     "status": "completed"
    },
    "tags": []
   },
   "outputs": [],
   "source": [
    "def remove_stopwords(sen):\n",
    "    sen_new = \" \".join([i for i in sen if i not in stop_words])\n",
    "    return sen_new"
   ]
  },
  {
   "cell_type": "code",
   "execution_count": 20,
   "id": "a01b06e5",
   "metadata": {
    "execution": {
     "iopub.execute_input": "2021-08-30T11:26:57.303038Z",
     "iopub.status.busy": "2021-08-30T11:26:57.302231Z",
     "iopub.status.idle": "2021-08-30T11:26:57.307446Z",
     "shell.execute_reply": "2021-08-30T11:26:57.306810Z",
     "shell.execute_reply.started": "2021-08-30T11:22:20.319323Z"
    },
    "id": "XoN4WxLaWmhE",
    "papermill": {
     "duration": 0.116081,
     "end_time": "2021-08-30T11:26:57.307609",
     "exception": false,
     "start_time": "2021-08-30T11:26:57.191528",
     "status": "completed"
    },
    "tags": []
   },
   "outputs": [],
   "source": [
    "from nltk.corpus import stopwords\n",
    "stop_words = stopwords.words('english')"
   ]
  },
  {
   "cell_type": "code",
   "execution_count": 21,
   "id": "3bd3909f",
   "metadata": {
    "execution": {
     "iopub.execute_input": "2021-08-30T11:26:57.533409Z",
     "iopub.status.busy": "2021-08-30T11:26:57.532727Z",
     "iopub.status.idle": "2021-08-30T11:26:57.535611Z",
     "shell.execute_reply": "2021-08-30T11:26:57.536057Z",
     "shell.execute_reply.started": "2021-08-30T11:22:20.336152Z"
    },
    "id": "3EipmM6QXV_m",
    "papermill": {
     "duration": 0.120249,
     "end_time": "2021-08-30T11:26:57.536230",
     "exception": false,
     "start_time": "2021-08-30T11:26:57.415981",
     "status": "completed"
    },
    "tags": []
   },
   "outputs": [],
   "source": [
    "clean_sentences = [remove_stopwords(r.split()) for r in clean_sentences]"
   ]
  },
  {
   "cell_type": "code",
   "execution_count": 22,
   "id": "338437cd",
   "metadata": {
    "execution": {
     "iopub.execute_input": "2021-08-30T11:26:57.752988Z",
     "iopub.status.busy": "2021-08-30T11:26:57.752365Z",
     "iopub.status.idle": "2021-08-30T11:26:57.755851Z",
     "shell.execute_reply": "2021-08-30T11:26:57.755239Z",
     "shell.execute_reply.started": "2021-08-30T11:22:20.354861Z"
    },
    "id": "Lm0PhSZYXV6S",
    "outputId": "fce6ab58-d090-4576-b7e5-ad2b48c9d21b",
    "papermill": {
     "duration": 0.114265,
     "end_time": "2021-08-30T11:26:57.756001",
     "exception": false,
     "start_time": "2021-08-30T11:26:57.641736",
     "status": "completed"
    },
    "tags": []
   },
   "outputs": [
    {
     "data": {
      "text/plain": [
       "['maria sharapova basically friends tennis players wta tour.',\n",
       " \"russian player problems openly speaking recent interview said: 'i really hide feelings much.\",\n",
       " 'think everyone knows job here.',\n",
       " \"i'm courts i'm court playing, i'm competitor want beat every single person whether they're locker room across net.\",\n",
       " \"i'm one strike conversation weather know next minutes go try win tennis match.\"]"
      ]
     },
     "execution_count": 22,
     "metadata": {},
     "output_type": "execute_result"
    }
   ],
   "source": [
    "clean_sentences[0:5]"
   ]
  },
  {
   "cell_type": "markdown",
   "id": "78dfe765",
   "metadata": {
    "id": "T5z2sa4z0VFi",
    "papermill": {
     "duration": 0.107704,
     "end_time": "2021-08-30T11:26:57.971780",
     "exception": false,
     "start_time": "2021-08-30T11:26:57.864076",
     "status": "completed"
    },
    "tags": []
   },
   "source": [
    "# **5. Vector representation of sentences**"
   ]
  },
  {
   "cell_type": "code",
   "execution_count": 23,
   "id": "db188e1c",
   "metadata": {
    "execution": {
     "iopub.execute_input": "2021-08-30T11:26:58.190095Z",
     "iopub.status.busy": "2021-08-30T11:26:58.189462Z",
     "iopub.status.idle": "2021-08-30T11:27:16.628772Z",
     "shell.execute_reply": "2021-08-30T11:27:16.628077Z",
     "shell.execute_reply.started": "2021-08-30T11:22:20.372592Z"
    },
    "id": "DPfME2X0XVx6",
    "papermill": {
     "duration": 18.549466,
     "end_time": "2021-08-30T11:27:16.628920",
     "exception": false,
     "start_time": "2021-08-30T11:26:58.079454",
     "status": "completed"
    },
    "tags": []
   },
   "outputs": [],
   "source": [
    "word_embeddings = {}\n",
    "f = open('glove.6B.100d.txt', encoding='utf-8')\n",
    "for line in f:\n",
    "    values = line.split()\n",
    "    word = values[0]\n",
    "    coefs = np.asarray(values[1:], dtype='float32')\n",
    "    word_embeddings[word] = coefs\n",
    "f.close()"
   ]
  },
  {
   "cell_type": "code",
   "execution_count": 24,
   "id": "d585b595",
   "metadata": {
    "execution": {
     "iopub.execute_input": "2021-08-30T11:27:16.861158Z",
     "iopub.status.busy": "2021-08-30T11:27:16.859952Z",
     "iopub.status.idle": "2021-08-30T11:27:16.864857Z",
     "shell.execute_reply": "2021-08-30T11:27:16.864267Z",
     "shell.execute_reply.started": "2021-08-30T11:22:39.021067Z"
    },
    "id": "q5-UpSrI0gIO",
    "papermill": {
     "duration": 0.126371,
     "end_time": "2021-08-30T11:27:16.864998",
     "exception": false,
     "start_time": "2021-08-30T11:27:16.738627",
     "status": "completed"
    },
    "tags": []
   },
   "outputs": [],
   "source": [
    "sentence_vectors = []\n",
    "for i in clean_sentences:\n",
    "  if len(i) != 0:\n",
    "    v = sum([word_embeddings.get(w, np.zeros((100,))) for w in i.split()])/(len(i.split())+0.001)\n",
    "  else:\n",
    "    v = np.zeros((100,))\n",
    "  sentence_vectors.append(v)"
   ]
  },
  {
   "cell_type": "markdown",
   "id": "579ed532",
   "metadata": {
    "id": "VGzjU6TO0-FA",
    "papermill": {
     "duration": 0.109136,
     "end_time": "2021-08-30T11:27:17.084383",
     "exception": false,
     "start_time": "2021-08-30T11:27:16.975247",
     "status": "completed"
    },
    "tags": []
   },
   "source": [
    "# **6. Similarity matrix**"
   ]
  },
  {
   "cell_type": "markdown",
   "id": "76e01be6",
   "metadata": {
    "id": "QB2je1bb1EUD",
    "papermill": {
     "duration": 0.10589,
     "end_time": "2021-08-30T11:27:17.297233",
     "exception": false,
     "start_time": "2021-08-30T11:27:17.191343",
     "status": "completed"
    },
    "tags": []
   },
   "source": [
    "I will use cosine similarity for finding the similarity between the sentecnes. Sentences which has highest similairyt will be of more importance and we will rank them according to that and later on we will form the summarization using that. \n",
    "\n",
    "[Read more on cosine similarity.](https://www.machinelearningplus.com/nlp/cosine-similarity/#:~:text=Cosine%20similarity%20is%20a%20metric,in%20a%20multi%2Ddimensional%20space.&text=The%20smaller%20the%20angle%2C%20higher%20the%20cosine%20similarity.)"
   ]
  },
  {
   "cell_type": "code",
   "execution_count": 25,
   "id": "a05b0b80",
   "metadata": {
    "execution": {
     "iopub.execute_input": "2021-08-30T11:27:17.513116Z",
     "iopub.status.busy": "2021-08-30T11:27:17.512128Z",
     "iopub.status.idle": "2021-08-30T11:27:17.516051Z",
     "shell.execute_reply": "2021-08-30T11:27:17.516511Z",
     "shell.execute_reply.started": "2021-08-30T11:22:39.036992Z"
    },
    "id": "g7mIOowt2N_N",
    "papermill": {
     "duration": 0.113539,
     "end_time": "2021-08-30T11:27:17.516699",
     "exception": false,
     "start_time": "2021-08-30T11:27:17.403160",
     "status": "completed"
    },
    "tags": []
   },
   "outputs": [],
   "source": [
    "from sklearn.metrics.pairwise import cosine_similarity"
   ]
  },
  {
   "cell_type": "code",
   "execution_count": 26,
   "id": "5af3eae8",
   "metadata": {
    "execution": {
     "iopub.execute_input": "2021-08-30T11:27:17.732544Z",
     "iopub.status.busy": "2021-08-30T11:27:17.731527Z",
     "iopub.status.idle": "2021-08-30T11:27:17.735786Z",
     "shell.execute_reply": "2021-08-30T11:27:17.736249Z",
     "shell.execute_reply.started": "2021-08-30T11:22:39.048906Z"
    },
    "id": "0gwzo6Mt2aRV",
    "papermill": {
     "duration": 0.113723,
     "end_time": "2021-08-30T11:27:17.736447",
     "exception": false,
     "start_time": "2021-08-30T11:27:17.622724",
     "status": "completed"
    },
    "tags": []
   },
   "outputs": [],
   "source": [
    "similarity_matrix = np.zeros([len(sentences), len(sentences)])\n",
    "# The above code will help me in forming the matrix of the size of sentences. "
   ]
  },
  {
   "cell_type": "code",
   "execution_count": 27,
   "id": "547e7d81",
   "metadata": {
    "execution": {
     "iopub.execute_input": "2021-08-30T11:27:17.954183Z",
     "iopub.status.busy": "2021-08-30T11:27:17.952988Z",
     "iopub.status.idle": "2021-08-30T11:27:21.844438Z",
     "shell.execute_reply": "2021-08-30T11:27:21.844915Z",
     "shell.execute_reply.started": "2021-08-30T11:22:39.064729Z"
    },
    "id": "OXzRyPCK2ORG",
    "papermill": {
     "duration": 4.002575,
     "end_time": "2021-08-30T11:27:21.845101",
     "exception": false,
     "start_time": "2021-08-30T11:27:17.842526",
     "status": "completed"
    },
    "tags": []
   },
   "outputs": [],
   "source": [
    "for i in range(len(sentences)):\n",
    "  for j in range(len(sentences)):\n",
    "    if i != j:\n",
    "      similarity_matrix[i][j] = cosine_similarity(sentence_vectors[i].reshape(1,100), sentence_vectors[j].reshape(1,100))[0,0]"
   ]
  },
  {
   "cell_type": "code",
   "execution_count": 28,
   "id": "141fa5bd",
   "metadata": {
    "execution": {
     "iopub.execute_input": "2021-08-30T11:27:22.064725Z",
     "iopub.status.busy": "2021-08-30T11:27:22.063688Z",
     "iopub.status.idle": "2021-08-30T11:27:22.069477Z",
     "shell.execute_reply": "2021-08-30T11:27:22.068972Z",
     "shell.execute_reply.started": "2021-08-30T11:22:42.873442Z"
    },
    "id": "YfhXqE192OuW",
    "outputId": "6558392a-af12-44e0-ad4c-554b08ae5e71",
    "papermill": {
     "duration": 0.11679,
     "end_time": "2021-08-30T11:27:22.069619",
     "exception": false,
     "start_time": "2021-08-30T11:27:21.952829",
     "status": "completed"
    },
    "tags": []
   },
   "outputs": [
    {
     "name": "stdout",
     "output_type": "stream",
     "text": [
      "(130, 130)\n"
     ]
    }
   ],
   "source": [
    "print(similarity_matrix.shape)"
   ]
  },
  {
   "cell_type": "markdown",
   "id": "9677997f",
   "metadata": {
    "id": "tvBlDN6J4bHU",
    "papermill": {
     "duration": 0.107681,
     "end_time": "2021-08-30T11:27:22.285361",
     "exception": false,
     "start_time": "2021-08-30T11:27:22.177680",
     "status": "completed"
    },
    "tags": []
   },
   "source": [
    "# **7. Converting similarity matrix sim_mat into a graph**"
   ]
  },
  {
   "cell_type": "markdown",
   "id": "16d5519b",
   "metadata": {
    "id": "LNcETNUA71bL",
    "papermill": {
     "duration": 0.10709,
     "end_time": "2021-08-30T11:27:22.499756",
     "exception": false,
     "start_time": "2021-08-30T11:27:22.392666",
     "status": "completed"
    },
    "tags": []
   },
   "source": [
    "The nodes of this graph will represent the sentences and the edges will represent the similarity scores between the sentences. On this graph, we will apply the PageRank algorithm to arrive at the sentence rankings"
   ]
  },
  {
   "cell_type": "code",
   "execution_count": 1,
   "id": "e3ad8f91",
   "metadata": {
    "execution": {
     "iopub.execute_input": "2021-08-30T11:27:22.719380Z",
     "iopub.status.busy": "2021-08-30T11:27:22.718419Z",
     "iopub.status.idle": "2021-08-30T11:27:23.677440Z",
     "shell.execute_reply": "2021-08-30T11:27:23.677984Z",
     "shell.execute_reply.started": "2021-08-30T11:22:42.881276Z"
    },
    "id": "syODLc0T2Orm",
    "papermill": {
     "duration": 1.071821,
     "end_time": "2021-08-30T11:27:23.678158",
     "exception": false,
     "start_time": "2021-08-30T11:27:22.606337",
     "status": "completed"
    },
    "tags": []
   },
   "outputs": [
    {
     "ename": "NameError",
     "evalue": "name 'similarity_matrix' is not defined",
     "output_type": "error",
     "traceback": [
      "\u001b[1;31m---------------------------------------------------------------------------\u001b[0m",
      "\u001b[1;31mNameError\u001b[0m                                 Traceback (most recent call last)",
      "Cell \u001b[1;32mIn[1], line 3\u001b[0m\n\u001b[0;32m      1\u001b[0m \u001b[38;5;28;01mimport\u001b[39;00m \u001b[38;5;21;01mnetworkx\u001b[39;00m \u001b[38;5;28;01mas\u001b[39;00m \u001b[38;5;21;01mnx\u001b[39;00m\n\u001b[1;32m----> 3\u001b[0m nx_graph \u001b[38;5;241m=\u001b[39m nx\u001b[38;5;241m.\u001b[39mfrom_numpy_array(\u001b[43msimilarity_matrix\u001b[49m)\n\u001b[0;32m      4\u001b[0m scores \u001b[38;5;241m=\u001b[39m nx\u001b[38;5;241m.\u001b[39mpagerank(nx_graph)\n",
      "\u001b[1;31mNameError\u001b[0m: name 'similarity_matrix' is not defined"
     ]
    }
   ],
   "source": [
    "import networkx as nx\n",
    "\n",
    "nx_graph = nx.from_numpy_array(similarity_matrix)\n",
    "scores = nx.pagerank(nx_graph)"
   ]
  },
  {
   "cell_type": "markdown",
   "id": "1e731068",
   "metadata": {
    "id": "gU1YotaN75iC",
    "papermill": {
     "duration": 0.106102,
     "end_time": "2021-08-30T11:27:23.891229",
     "exception": false,
     "start_time": "2021-08-30T11:27:23.785127",
     "status": "completed"
    },
    "tags": []
   },
   "source": [
    "# **8. Summarization**"
   ]
  },
  {
   "cell_type": "markdown",
   "id": "95557562",
   "metadata": {
    "id": "0A4tkjrA8pkW",
    "papermill": {
     "duration": 0.111296,
     "end_time": "2021-08-30T11:27:24.110140",
     "exception": false,
     "start_time": "2021-08-30T11:27:23.998844",
     "status": "completed"
    },
    "tags": []
   },
   "source": [
    "Sorting the sentences on the basis of highest score"
   ]
  },
  {
   "cell_type": "code",
   "execution_count": 30,
   "id": "7705658e",
   "metadata": {
    "execution": {
     "iopub.execute_input": "2021-08-30T11:27:24.329903Z",
     "iopub.status.busy": "2021-08-30T11:27:24.328908Z",
     "iopub.status.idle": "2021-08-30T11:27:24.332436Z",
     "shell.execute_reply": "2021-08-30T11:27:24.331883Z",
     "shell.execute_reply.started": "2021-08-30T11:22:43.844821Z"
    },
    "id": "NzTxFLOp2OLN",
    "papermill": {
     "duration": 0.115171,
     "end_time": "2021-08-30T11:27:24.332598",
     "exception": false,
     "start_time": "2021-08-30T11:27:24.217427",
     "status": "completed"
    },
    "tags": []
   },
   "outputs": [],
   "source": [
    "ranked_sentences = sorted(((scores[i],s) for i,s in enumerate(sentences)), reverse=True)"
   ]
  },
  {
   "cell_type": "code",
   "execution_count": 31,
   "id": "c71560e9",
   "metadata": {
    "execution": {
     "iopub.execute_input": "2021-08-30T11:27:24.556667Z",
     "iopub.status.busy": "2021-08-30T11:27:24.555710Z",
     "iopub.status.idle": "2021-08-30T11:27:24.560746Z",
     "shell.execute_reply": "2021-08-30T11:27:24.560149Z",
     "shell.execute_reply.started": "2021-08-30T11:22:43.853980Z"
    },
    "id": "drS_4O5g2OB4",
    "outputId": "d7c7fb6b-72ac-43c8-b248-f02df57d3656",
    "papermill": {
     "duration": 0.11989,
     "end_time": "2021-08-30T11:27:24.560890",
     "exception": false,
     "start_time": "2021-08-30T11:27:24.441000",
     "status": "completed"
    },
    "tags": []
   },
   "outputs": [
    {
     "name": "stdout",
     "output_type": "stream",
     "text": [
      "I was on a nice trajectorythen, Reid recalled.If I hadnt got sick, I think I could have started pushing towards the second week at the slams and then who knows. Duringa comeback attempt some five years later, Reid added Bernard Tomic and 2018 US Open Federer slayer John Millman to his list of career scalps.\n",
      "But my fondest memory is probably him coming back in Spain with his father and Todd trying to order a ham, cheese and tomato sandwich in the most Aussie English I ever heard. Among his lesser known achievements - but even more significantto me - was an injured Reids effort to reach the final of the Manly Seaside, a prestigious Christmas-time event won backin the day by the likes of legends Rod Laver, Ken Rosewall, Frank Sedgman, John Bromwich, Lew Hoad, Neal Fraser, Fred Stolle, Evonne Goolagong and Australias last womens Australian Open champion, Christine ONeil.\n",
      "Exhausted after spending half his round deep in the bushes searching for my ball, as well as those of two other golfers hed never met before, our incredibly giving designated driver asked if we didnt mind going straight home after signing off so he could rest up a little before heading to work.\n",
      "Major players feel that a big event in late November combined with one in January before the Australian Open will mean too much tennis and too little rest.\n",
      "Speaking at the Swiss Indoors tournament where he will play in Sundays final against Romanian qualifier Marius Copil, the world number three said that given the impossibly short time frame to make a decision, he opted out of any commitment.\n",
      "Full effort Nick could live out his tennis like a (Tomas) Berdych or (Jo- Wilfried) Tsonga, consistently making second week,quarters, semis, finals of slams - and then hopefully more.\n",
      "Now they wont even give me tickets (to the Open). A Davis Cup pick and on the cusp of the worlds 100 by 18, Reid had few other complaints - just a lingering sense of what might have been.\n",
      "Kei Nishikori will try to end his long losing streak in ATP finals and Kevin Anderson will go for his second title of the year at the Erste Bank Open on Sunday.\n",
      "I felt like the best weeks that I had to get to know players when I was playing were the Fed Cup weeks or the Olympic weeks, not necessarily during the tournaments.\n",
      "He used his first break point to close out the first set before going up 3-0 in the second and wrapping up the win on his first match point.\n"
     ]
    }
   ],
   "source": [
    "# Extract top 10 sentences as the summary\n",
    "for i in range(10):\n",
    "  print(ranked_sentences[i][1])"
   ]
  },
  {
   "cell_type": "markdown",
   "id": "68274468",
   "metadata": {},
   "source": []
  }
 ],
 "metadata": {
  "kernelspec": {
   "display_name": "Python 3",
   "language": "python",
   "name": "python3"
  },
  "language_info": {
   "codemirror_mode": {
    "name": "ipython",
    "version": 3
   },
   "file_extension": ".py",
   "mimetype": "text/x-python",
   "name": "python",
   "nbconvert_exporter": "python",
   "pygments_lexer": "ipython3",
   "version": "3.12.2"
  },
  "papermill": {
   "default_parameters": {},
   "duration": 252.124517,
   "end_time": "2021-08-30T11:27:26.067492",
   "environment_variables": {},
   "exception": null,
   "input_path": "__notebook__.ipynb",
   "output_path": "__notebook__.ipynb",
   "parameters": {},
   "start_time": "2021-08-30T11:23:13.942975",
   "version": "2.3.3"
  }
 },
 "nbformat": 4,
 "nbformat_minor": 5
}
