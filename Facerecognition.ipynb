{
  "nbformat": 4,
  "nbformat_minor": 0,
  "metadata": {
    "colab": {
      "provenance": []
    },
    "kernelspec": {
      "name": "python3",
      "display_name": "Python 3"
    },
    "language_info": {
      "name": "python"
    }
  },
  "cells": [
    {
      "cell_type": "code",
      "source": [
        "TrainingImagePath='drive/MyDrive/DEEPLEARNING/Face Images/Final Training Images'\n",
        "from keras.preprocessing.image import ImageDataGenerator\n",
        "\n",
        "\n",
        "train_datagen = ImageDataGenerator(\n",
        "    shear_range=0.1,\n",
        "    zoom_range= 0.1,\n",
        "    horizontal_flip=True)\n",
        "\n",
        "test_datagen = ImageDataGenerator()\n",
        "training_set = test_datagen.flow_from_directory(\n",
        "    TrainingImagePath,\n",
        "    target_size=(64,64),\n",
        "    batch_size=32,\n",
        "    class_mode='categorical')\n",
        "test_set = test_datagen.flow_from_directory(\n",
        "        TrainingImagePath,\n",
        "        target_size=(64, 64),\n",
        "        batch_size=32,\n",
        "        class_mode='categorical')\n",
        "\n",
        "test_set.class_indices"
      ],
      "metadata": {
        "id": "rO6-dAAXBfln",
        "colab": {
          "base_uri": "https://localhost:8080/"
        },
        "outputId": "d507e05c-4432-4632-9915-e0c32e058163"
      },
      "execution_count": 9,
      "outputs": [
        {
          "output_type": "stream",
          "name": "stdout",
          "text": [
            "Found 244 images belonging to 16 classes.\n",
            "Found 244 images belonging to 16 classes.\n"
          ]
        },
        {
          "output_type": "execute_result",
          "data": {
            "text/plain": [
              "{'face1': 0,\n",
              " 'face10': 1,\n",
              " 'face11': 2,\n",
              " 'face12': 3,\n",
              " 'face13': 4,\n",
              " 'face14': 5,\n",
              " 'face15': 6,\n",
              " 'face16': 7,\n",
              " 'face2': 8,\n",
              " 'face3': 9,\n",
              " 'face4': 10,\n",
              " 'face5': 11,\n",
              " 'face6': 12,\n",
              " 'face7': 13,\n",
              " 'face8': 14,\n",
              " 'face9': 15}"
            ]
          },
          "metadata": {},
          "execution_count": 9
        }
      ]
    },
    {
      "cell_type": "code",
      "source": [
        "TrainClasses=training_set.class_indices\n",
        "ResultMap={}\n",
        "for faceValue,faceName in zip(TrainClasses.values(),TrainClasses.keys()):\n",
        "    ResultMap[faceValue]=faceName\n",
        "import pickle\n",
        "with open(\"ResultsMap.pkl\", 'wb') as fileWriteStream:\n",
        "    pickle.dump(ResultMap, fileWriteStream)\n",
        "\n",
        "print(\"Mapping of Face and its ID\",ResultMap)\n",
        "OutputNeurons=len(ResultMap)\n",
        "print('\\n The Number of output neurons: ', OutputNeurons)"
      ],
      "metadata": {
        "colab": {
          "base_uri": "https://localhost:8080/"
        },
        "id": "U4NZEUN5F3vI",
        "outputId": "75b0f116-acc3-4d40-cc8c-ee86ea062cf9"
      },
      "execution_count": 10,
      "outputs": [
        {
          "output_type": "stream",
          "name": "stdout",
          "text": [
            "Mapping of Face and its ID {0: 'face1', 1: 'face10', 2: 'face11', 3: 'face12', 4: 'face13', 5: 'face14', 6: 'face15', 7: 'face16', 8: 'face2', 9: 'face3', 10: 'face4', 11: 'face5', 12: 'face6', 13: 'face7', 14: 'face8', 15: 'face9'}\n",
            "\n",
            " The Number of output neurons:  16\n"
          ]
        }
      ]
    },
    {
      "cell_type": "code",
      "source": [
        "from keras.models import Sequential\n",
        "from keras.layers import Convolution2D\n",
        "from keras.layers import MaxPool2D\n",
        "from keras.layers import Flatten\n",
        "from keras.layers import Dense\n",
        "\n",
        "classifier= Sequential()\n",
        "classifier.add(Convolution2D(32, kernel_size=(5, 5), strides=(1, 1), input_shape=(64,64,3), activation='relu'))\n",
        "classifier.add(MaxPool2D(pool_size=(2,2)))\n",
        "classifier.add(Convolution2D(64, kernel_size=(5, 5), strides=(1, 1), activation='relu'))\n",
        "classifier.add(MaxPool2D(pool_size=(2,2)))\n",
        "classifier.add(Flatten())\n",
        "classifier.add(Dense(64, activation='relu'))\n",
        "classifier.add(Dense(OutputNeurons, activation='softmax'))\n",
        "classifier.compile(loss='categorical_crossentropy', optimizer = 'adam', metrics=[\"accuracy\"])\n",
        "import time\n",
        "StartTime=time.time()\n",
        "classifier.fit_generator(\n",
        "    training_set,\n",
        "    steps_per_epoch=8,\n",
        "    epochs=10,\n",
        "    validation_data=test_set,\n",
        "    validation_steps=10)\n",
        "EndTime=time.time()\n",
        "print(\"###### Total Time Taken: \", round((EndTime-StartTime)/60), 'Minutes ######')"
      ],
      "metadata": {
        "colab": {
          "base_uri": "https://localhost:8080/"
        },
        "id": "geolSnhuGHBv",
        "outputId": "641aeb49-230e-4b07-945d-dc8029574ca4"
      },
      "execution_count": 18,
      "outputs": [
        {
          "output_type": "stream",
          "name": "stderr",
          "text": [
            "<ipython-input-18-f5c07cb88014>:18: UserWarning: `Model.fit_generator` is deprecated and will be removed in a future version. Please use `Model.fit`, which supports generators.\n",
            "  classifier.fit_generator(\n"
          ]
        },
        {
          "output_type": "stream",
          "name": "stdout",
          "text": [
            "Epoch 1/10\n",
            "8/8 [==============================] - ETA: 0s - loss: 116.4826 - accuracy: 0.0287"
          ]
        },
        {
          "output_type": "stream",
          "name": "stderr",
          "text": [
            "WARNING:tensorflow:Your input ran out of data; interrupting training. Make sure that your dataset or generator can generate at least `steps_per_epoch * epochs` batches (in this case, 10 batches). You may need to use the repeat() function when building your dataset.\n"
          ]
        },
        {
          "output_type": "stream",
          "name": "stdout",
          "text": [
            "\b\b\b\b\b\b\b\b\b\b\b\b\b\b\b\b\b\b\b\b\b\b\b\b\b\b\b\b\b\b\b\b\b\b\b\b\b\b\b\b\b\b\b\b\b\b\b\b\b\b\b\b\b\b\b\b\b\b\b\b\b\b\b\b\b\b\b\b\b\b\b\b\b\b\b\b\b\b\b\b\b\b\r8/8 [==============================] - 9s 967ms/step - loss: 116.4826 - accuracy: 0.0287 - val_loss: 4.8976 - val_accuracy: 0.0820\n",
            "Epoch 2/10\n",
            "8/8 [==============================] - 5s 617ms/step - loss: 3.1465 - accuracy: 0.1352\n",
            "Epoch 3/10\n",
            "8/8 [==============================] - 3s 406ms/step - loss: 2.5150 - accuracy: 0.2705\n",
            "Epoch 4/10\n",
            "8/8 [==============================] - 3s 383ms/step - loss: 1.9897 - accuracy: 0.3934\n",
            "Epoch 5/10\n",
            "8/8 [==============================] - 5s 539ms/step - loss: 1.1591 - accuracy: 0.6598\n",
            "Epoch 6/10\n",
            "8/8 [==============================] - 3s 408ms/step - loss: 0.7624 - accuracy: 0.7582\n",
            "Epoch 7/10\n",
            "8/8 [==============================] - 3s 397ms/step - loss: 0.4429 - accuracy: 0.8730\n",
            "Epoch 8/10\n",
            "8/8 [==============================] - 4s 420ms/step - loss: 0.3872 - accuracy: 0.9057\n",
            "Epoch 9/10\n",
            "8/8 [==============================] - 3s 415ms/step - loss: 0.1985 - accuracy: 0.9590\n",
            "Epoch 10/10\n",
            "8/8 [==============================] - 5s 597ms/step - loss: 0.0372 - accuracy: 0.9959\n",
            "###### Total Time Taken:  1 Minutes ######\n"
          ]
        }
      ]
    },
    {
      "cell_type": "code",
      "source": [
        "import numpy as np\n",
        "from tensorflow.keras.preprocessing.image import load_img, img_to_array\n",
        "\n",
        "test_image_path = 'drive/MyDrive/DEEPLEARNING/Face Images/Final Testing Images/face4/3face4.jpg'\n",
        "test_image = load_img(test_image_path, target_size=(64, 64))\n",
        "test_image = img_to_array(test_image)\n",
        "\n",
        "test_image = np.expand_dims(test_image, axis=0)\n",
        "\n",
        "result = classifier.predict(test_image, verbose=0)\n",
        "\n",
        "print('####' * 10)\n",
        "print('Prediction is:', ResultMap[np.argmax(result)])\n"
      ],
      "metadata": {
        "colab": {
          "base_uri": "https://localhost:8080/"
        },
        "id": "tJSnVLj5LRQ8",
        "outputId": "f1d03d96-bd4c-4f51-edbb-a7af572556b0"
      },
      "execution_count": 28,
      "outputs": [
        {
          "output_type": "stream",
          "name": "stdout",
          "text": [
            "########################################\n",
            "Prediction is: face4\n"
          ]
        }
      ]
    }
  ]
}